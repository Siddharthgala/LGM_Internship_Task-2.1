{
 "cells": [
  {
   "cell_type": "markdown",
   "id": "5afb7374",
   "metadata": {},
   "source": [
    "# LGM_Internship"
   ]
  },
  {
   "cell_type": "markdown",
   "id": "81ee2b89",
   "metadata": {},
   "source": [
    "## Task 5 : EDA on Global Terrorism Dataset\n",
    "### - by Siddharth Gala"
   ]
  },
  {
   "cell_type": "markdown",
   "id": "eaa5c41f",
   "metadata": {},
   "source": [
    "### Importing required libraries"
   ]
  },
  {
   "cell_type": "code",
   "execution_count": 1,
   "id": "8d31d916",
   "metadata": {},
   "outputs": [],
   "source": [
    "import numpy as np\n",
    "import pandas as pd\n",
    "import matplotlib as mpl\n",
    "import matplotlib.pyplot as plt\n",
    "import seaborn as sns\n",
    "%matplotlib inline"
   ]
  },
  {
   "cell_type": "markdown",
   "id": "abefdde6",
   "metadata": {},
   "source": [
    "### Reading a CSV file"
   ]
  },
  {
   "cell_type": "code",
   "execution_count": 3,
   "id": "b72afef3",
   "metadata": {},
   "outputs": [
    {
     "name": "stderr",
     "output_type": "stream",
     "text": [
      "/var/folders/y6/zk6_82cx6hb456xwqtxsbb6c0000gn/T/ipykernel_57170/3748511756.py:1: DtypeWarning: Columns (4,6,31,33,61,62,63,76,79,90,92,94,96,114,115,121) have mixed types. Specify dtype option on import or set low_memory=False.\n",
      "  data=pd.read_csv(\"globalterrorismdb_0718dist.csv\", encoding=\"latin1\")\n"
     ]
    },
    {
     "name": "stdout",
     "output_type": "stream",
     "text": [
      "Data has been successfully imported\n"
     ]
    },
    {
     "data": {
      "text/html": [
       "<div>\n",
       "<style scoped>\n",
       "    .dataframe tbody tr th:only-of-type {\n",
       "        vertical-align: middle;\n",
       "    }\n",
       "\n",
       "    .dataframe tbody tr th {\n",
       "        vertical-align: top;\n",
       "    }\n",
       "\n",
       "    .dataframe thead th {\n",
       "        text-align: right;\n",
       "    }\n",
       "</style>\n",
       "<table border=\"1\" class=\"dataframe\">\n",
       "  <thead>\n",
       "    <tr style=\"text-align: right;\">\n",
       "      <th></th>\n",
       "      <th>eventid</th>\n",
       "      <th>iyear</th>\n",
       "      <th>imonth</th>\n",
       "      <th>iday</th>\n",
       "      <th>approxdate</th>\n",
       "      <th>extended</th>\n",
       "      <th>resolution</th>\n",
       "      <th>country</th>\n",
       "      <th>country_txt</th>\n",
       "      <th>region</th>\n",
       "      <th>...</th>\n",
       "      <th>addnotes</th>\n",
       "      <th>scite1</th>\n",
       "      <th>scite2</th>\n",
       "      <th>scite3</th>\n",
       "      <th>dbsource</th>\n",
       "      <th>INT_LOG</th>\n",
       "      <th>INT_IDEO</th>\n",
       "      <th>INT_MISC</th>\n",
       "      <th>INT_ANY</th>\n",
       "      <th>related</th>\n",
       "    </tr>\n",
       "  </thead>\n",
       "  <tbody>\n",
       "    <tr>\n",
       "      <th>0</th>\n",
       "      <td>197000000001</td>\n",
       "      <td>1970</td>\n",
       "      <td>7</td>\n",
       "      <td>2</td>\n",
       "      <td>NaN</td>\n",
       "      <td>0</td>\n",
       "      <td>NaN</td>\n",
       "      <td>58</td>\n",
       "      <td>Dominican Republic</td>\n",
       "      <td>2</td>\n",
       "      <td>...</td>\n",
       "      <td>NaN</td>\n",
       "      <td>NaN</td>\n",
       "      <td>NaN</td>\n",
       "      <td>NaN</td>\n",
       "      <td>PGIS</td>\n",
       "      <td>0</td>\n",
       "      <td>0</td>\n",
       "      <td>0</td>\n",
       "      <td>0</td>\n",
       "      <td>NaN</td>\n",
       "    </tr>\n",
       "    <tr>\n",
       "      <th>1</th>\n",
       "      <td>197000000002</td>\n",
       "      <td>1970</td>\n",
       "      <td>0</td>\n",
       "      <td>0</td>\n",
       "      <td>NaN</td>\n",
       "      <td>0</td>\n",
       "      <td>NaN</td>\n",
       "      <td>130</td>\n",
       "      <td>Mexico</td>\n",
       "      <td>1</td>\n",
       "      <td>...</td>\n",
       "      <td>NaN</td>\n",
       "      <td>NaN</td>\n",
       "      <td>NaN</td>\n",
       "      <td>NaN</td>\n",
       "      <td>PGIS</td>\n",
       "      <td>0</td>\n",
       "      <td>1</td>\n",
       "      <td>1</td>\n",
       "      <td>1</td>\n",
       "      <td>NaN</td>\n",
       "    </tr>\n",
       "    <tr>\n",
       "      <th>2</th>\n",
       "      <td>197001000001</td>\n",
       "      <td>1970</td>\n",
       "      <td>1</td>\n",
       "      <td>0</td>\n",
       "      <td>NaN</td>\n",
       "      <td>0</td>\n",
       "      <td>NaN</td>\n",
       "      <td>160</td>\n",
       "      <td>Philippines</td>\n",
       "      <td>5</td>\n",
       "      <td>...</td>\n",
       "      <td>NaN</td>\n",
       "      <td>NaN</td>\n",
       "      <td>NaN</td>\n",
       "      <td>NaN</td>\n",
       "      <td>PGIS</td>\n",
       "      <td>-9</td>\n",
       "      <td>-9</td>\n",
       "      <td>1</td>\n",
       "      <td>1</td>\n",
       "      <td>NaN</td>\n",
       "    </tr>\n",
       "    <tr>\n",
       "      <th>3</th>\n",
       "      <td>197001000002</td>\n",
       "      <td>1970</td>\n",
       "      <td>1</td>\n",
       "      <td>0</td>\n",
       "      <td>NaN</td>\n",
       "      <td>0</td>\n",
       "      <td>NaN</td>\n",
       "      <td>78</td>\n",
       "      <td>Greece</td>\n",
       "      <td>8</td>\n",
       "      <td>...</td>\n",
       "      <td>NaN</td>\n",
       "      <td>NaN</td>\n",
       "      <td>NaN</td>\n",
       "      <td>NaN</td>\n",
       "      <td>PGIS</td>\n",
       "      <td>-9</td>\n",
       "      <td>-9</td>\n",
       "      <td>1</td>\n",
       "      <td>1</td>\n",
       "      <td>NaN</td>\n",
       "    </tr>\n",
       "    <tr>\n",
       "      <th>4</th>\n",
       "      <td>197001000003</td>\n",
       "      <td>1970</td>\n",
       "      <td>1</td>\n",
       "      <td>0</td>\n",
       "      <td>NaN</td>\n",
       "      <td>0</td>\n",
       "      <td>NaN</td>\n",
       "      <td>101</td>\n",
       "      <td>Japan</td>\n",
       "      <td>4</td>\n",
       "      <td>...</td>\n",
       "      <td>NaN</td>\n",
       "      <td>NaN</td>\n",
       "      <td>NaN</td>\n",
       "      <td>NaN</td>\n",
       "      <td>PGIS</td>\n",
       "      <td>-9</td>\n",
       "      <td>-9</td>\n",
       "      <td>1</td>\n",
       "      <td>1</td>\n",
       "      <td>NaN</td>\n",
       "    </tr>\n",
       "  </tbody>\n",
       "</table>\n",
       "<p>5 rows × 135 columns</p>\n",
       "</div>"
      ],
      "text/plain": [
       "        eventid  iyear  imonth  iday approxdate  extended resolution  country  \\\n",
       "0  197000000001   1970       7     2        NaN         0        NaN       58   \n",
       "1  197000000002   1970       0     0        NaN         0        NaN      130   \n",
       "2  197001000001   1970       1     0        NaN         0        NaN      160   \n",
       "3  197001000002   1970       1     0        NaN         0        NaN       78   \n",
       "4  197001000003   1970       1     0        NaN         0        NaN      101   \n",
       "\n",
       "          country_txt  region  ... addnotes scite1 scite2  scite3  dbsource  \\\n",
       "0  Dominican Republic       2  ...      NaN    NaN    NaN     NaN      PGIS   \n",
       "1              Mexico       1  ...      NaN    NaN    NaN     NaN      PGIS   \n",
       "2         Philippines       5  ...      NaN    NaN    NaN     NaN      PGIS   \n",
       "3              Greece       8  ...      NaN    NaN    NaN     NaN      PGIS   \n",
       "4               Japan       4  ...      NaN    NaN    NaN     NaN      PGIS   \n",
       "\n",
       "   INT_LOG  INT_IDEO INT_MISC INT_ANY  related  \n",
       "0        0         0        0       0      NaN  \n",
       "1        0         1        1       1      NaN  \n",
       "2       -9        -9        1       1      NaN  \n",
       "3       -9        -9        1       1      NaN  \n",
       "4       -9        -9        1       1      NaN  \n",
       "\n",
       "[5 rows x 135 columns]"
      ]
     },
     "execution_count": 3,
     "metadata": {},
     "output_type": "execute_result"
    }
   ],
   "source": [
    "data=pd.read_csv(\"globalterrorismdb_0718dist.csv\", encoding=\"latin1\")\n",
    "df=pd.DataFrame(data)\n",
    "print(\"Data has been successfully imported\")\n",
    "df.head()"
   ]
  },
  {
   "cell_type": "markdown",
   "id": "48fdb395",
   "metadata": {},
   "source": [
    "### Exploratory Data Analysis"
   ]
  },
  {
   "cell_type": "code",
   "execution_count": 4,
   "id": "83b507db",
   "metadata": {},
   "outputs": [
    {
     "name": "stdout",
     "output_type": "stream",
     "text": [
      "<class 'pandas.core.frame.DataFrame'>\n",
      "RangeIndex: 181691 entries, 0 to 181690\n",
      "Columns: 135 entries, eventid to related\n",
      "dtypes: float64(55), int64(22), object(58)\n",
      "memory usage: 187.1+ MB\n"
     ]
    }
   ],
   "source": [
    "df.info()"
   ]
  },
  {
   "cell_type": "code",
   "execution_count": 5,
   "id": "45347b80",
   "metadata": {},
   "outputs": [
    {
     "data": {
      "text/plain": [
       "(181691, 135)"
      ]
     },
     "execution_count": 5,
     "metadata": {},
     "output_type": "execute_result"
    }
   ],
   "source": [
    "df.shape"
   ]
  },
  {
   "cell_type": "code",
   "execution_count": 6,
   "id": "ab107f22",
   "metadata": {},
   "outputs": [
    {
     "data": {
      "text/plain": [
       "Index(['eventid', 'iyear', 'imonth', 'iday', 'approxdate', 'extended',\n",
       "       'resolution', 'country', 'country_txt', 'region',\n",
       "       ...\n",
       "       'addnotes', 'scite1', 'scite2', 'scite3', 'dbsource', 'INT_LOG',\n",
       "       'INT_IDEO', 'INT_MISC', 'INT_ANY', 'related'],\n",
       "      dtype='object', length=135)"
      ]
     },
     "execution_count": 6,
     "metadata": {},
     "output_type": "execute_result"
    }
   ],
   "source": [
    "df.columns"
   ]
  },
  {
   "cell_type": "code",
   "execution_count": 7,
   "id": "73175a75",
   "metadata": {},
   "outputs": [],
   "source": [
    "data.rename(columns={'iyear':'Year','imonth':'Month','extended':'Extended','iday':'Day','country_txt':'Country',\n",
    "           'provstate':'State','region_txt':'Region','attacktype1_txt':'AttackType','target1':'Target',\n",
    "           'nkill':'Killed','nwound':'Wounded','summary':'Summary','gname':'Group','targtype1_txt':'Target_type',\n",
    "           'weaptype1_txt':'Weapon_type','motive':'Motive','city':'City','latitude':'Latitude','longitude':'Longitude'},inplace=True)"
   ]
  },
  {
   "cell_type": "code",
   "execution_count": 8,
   "id": "8a750eda",
   "metadata": {},
   "outputs": [],
   "source": [
    "data=data[['Year','Month','Extended','Day','Country','State','Region','City','Latitude','Longitude',\n",
    "           'AttackType','Killed','Wounded','Target','Summary','Group','Target_type','Weapon_type','Motive']]"
   ]
  },
  {
   "cell_type": "code",
   "execution_count": 9,
   "id": "730067c7",
   "metadata": {},
   "outputs": [
    {
     "data": {
      "text/html": [
       "<div>\n",
       "<style scoped>\n",
       "    .dataframe tbody tr th:only-of-type {\n",
       "        vertical-align: middle;\n",
       "    }\n",
       "\n",
       "    .dataframe tbody tr th {\n",
       "        vertical-align: top;\n",
       "    }\n",
       "\n",
       "    .dataframe thead th {\n",
       "        text-align: right;\n",
       "    }\n",
       "</style>\n",
       "<table border=\"1\" class=\"dataframe\">\n",
       "  <thead>\n",
       "    <tr style=\"text-align: right;\">\n",
       "      <th></th>\n",
       "      <th>Year</th>\n",
       "      <th>Month</th>\n",
       "      <th>Extended</th>\n",
       "      <th>Day</th>\n",
       "      <th>Country</th>\n",
       "      <th>State</th>\n",
       "      <th>Region</th>\n",
       "      <th>City</th>\n",
       "      <th>Latitude</th>\n",
       "      <th>Longitude</th>\n",
       "      <th>AttackType</th>\n",
       "      <th>Killed</th>\n",
       "      <th>Wounded</th>\n",
       "      <th>Target</th>\n",
       "      <th>Summary</th>\n",
       "      <th>Group</th>\n",
       "      <th>Target_type</th>\n",
       "      <th>Weapon_type</th>\n",
       "      <th>Motive</th>\n",
       "    </tr>\n",
       "  </thead>\n",
       "  <tbody>\n",
       "    <tr>\n",
       "      <th>0</th>\n",
       "      <td>1970</td>\n",
       "      <td>7</td>\n",
       "      <td>0</td>\n",
       "      <td>2</td>\n",
       "      <td>Dominican Republic</td>\n",
       "      <td>NaN</td>\n",
       "      <td>Central America &amp; Caribbean</td>\n",
       "      <td>Santo Domingo</td>\n",
       "      <td>18.456792</td>\n",
       "      <td>-69.951164</td>\n",
       "      <td>Assassination</td>\n",
       "      <td>1.0</td>\n",
       "      <td>0.0</td>\n",
       "      <td>Julio Guzman</td>\n",
       "      <td>NaN</td>\n",
       "      <td>MANO-D</td>\n",
       "      <td>Private Citizens &amp; Property</td>\n",
       "      <td>Unknown</td>\n",
       "      <td>NaN</td>\n",
       "    </tr>\n",
       "    <tr>\n",
       "      <th>1</th>\n",
       "      <td>1970</td>\n",
       "      <td>0</td>\n",
       "      <td>0</td>\n",
       "      <td>0</td>\n",
       "      <td>Mexico</td>\n",
       "      <td>Federal</td>\n",
       "      <td>North America</td>\n",
       "      <td>Mexico city</td>\n",
       "      <td>19.371887</td>\n",
       "      <td>-99.086624</td>\n",
       "      <td>Hostage Taking (Kidnapping)</td>\n",
       "      <td>0.0</td>\n",
       "      <td>0.0</td>\n",
       "      <td>Nadine Chaval, daughter</td>\n",
       "      <td>NaN</td>\n",
       "      <td>23rd of September Communist League</td>\n",
       "      <td>Government (Diplomatic)</td>\n",
       "      <td>Unknown</td>\n",
       "      <td>NaN</td>\n",
       "    </tr>\n",
       "    <tr>\n",
       "      <th>2</th>\n",
       "      <td>1970</td>\n",
       "      <td>1</td>\n",
       "      <td>0</td>\n",
       "      <td>0</td>\n",
       "      <td>Philippines</td>\n",
       "      <td>Tarlac</td>\n",
       "      <td>Southeast Asia</td>\n",
       "      <td>Unknown</td>\n",
       "      <td>15.478598</td>\n",
       "      <td>120.599741</td>\n",
       "      <td>Assassination</td>\n",
       "      <td>1.0</td>\n",
       "      <td>0.0</td>\n",
       "      <td>Employee</td>\n",
       "      <td>NaN</td>\n",
       "      <td>Unknown</td>\n",
       "      <td>Journalists &amp; Media</td>\n",
       "      <td>Unknown</td>\n",
       "      <td>NaN</td>\n",
       "    </tr>\n",
       "    <tr>\n",
       "      <th>3</th>\n",
       "      <td>1970</td>\n",
       "      <td>1</td>\n",
       "      <td>0</td>\n",
       "      <td>0</td>\n",
       "      <td>Greece</td>\n",
       "      <td>Attica</td>\n",
       "      <td>Western Europe</td>\n",
       "      <td>Athens</td>\n",
       "      <td>37.997490</td>\n",
       "      <td>23.762728</td>\n",
       "      <td>Bombing/Explosion</td>\n",
       "      <td>NaN</td>\n",
       "      <td>NaN</td>\n",
       "      <td>U.S. Embassy</td>\n",
       "      <td>NaN</td>\n",
       "      <td>Unknown</td>\n",
       "      <td>Government (Diplomatic)</td>\n",
       "      <td>Explosives</td>\n",
       "      <td>NaN</td>\n",
       "    </tr>\n",
       "    <tr>\n",
       "      <th>4</th>\n",
       "      <td>1970</td>\n",
       "      <td>1</td>\n",
       "      <td>0</td>\n",
       "      <td>0</td>\n",
       "      <td>Japan</td>\n",
       "      <td>Fukouka</td>\n",
       "      <td>East Asia</td>\n",
       "      <td>Fukouka</td>\n",
       "      <td>33.580412</td>\n",
       "      <td>130.396361</td>\n",
       "      <td>Facility/Infrastructure Attack</td>\n",
       "      <td>NaN</td>\n",
       "      <td>NaN</td>\n",
       "      <td>U.S. Consulate</td>\n",
       "      <td>NaN</td>\n",
       "      <td>Unknown</td>\n",
       "      <td>Government (Diplomatic)</td>\n",
       "      <td>Incendiary</td>\n",
       "      <td>NaN</td>\n",
       "    </tr>\n",
       "  </tbody>\n",
       "</table>\n",
       "</div>"
      ],
      "text/plain": [
       "   Year  Month  Extended  Day             Country    State  \\\n",
       "0  1970      7         0    2  Dominican Republic      NaN   \n",
       "1  1970      0         0    0              Mexico  Federal   \n",
       "2  1970      1         0    0         Philippines   Tarlac   \n",
       "3  1970      1         0    0              Greece   Attica   \n",
       "4  1970      1         0    0               Japan  Fukouka   \n",
       "\n",
       "                        Region           City   Latitude   Longitude  \\\n",
       "0  Central America & Caribbean  Santo Domingo  18.456792  -69.951164   \n",
       "1                North America    Mexico city  19.371887  -99.086624   \n",
       "2               Southeast Asia        Unknown  15.478598  120.599741   \n",
       "3               Western Europe         Athens  37.997490   23.762728   \n",
       "4                    East Asia        Fukouka  33.580412  130.396361   \n",
       "\n",
       "                       AttackType  Killed  Wounded                   Target  \\\n",
       "0                   Assassination     1.0      0.0             Julio Guzman   \n",
       "1     Hostage Taking (Kidnapping)     0.0      0.0  Nadine Chaval, daughter   \n",
       "2                   Assassination     1.0      0.0                 Employee   \n",
       "3               Bombing/Explosion     NaN      NaN             U.S. Embassy   \n",
       "4  Facility/Infrastructure Attack     NaN      NaN           U.S. Consulate   \n",
       "\n",
       "  Summary                               Group                  Target_type  \\\n",
       "0     NaN                              MANO-D  Private Citizens & Property   \n",
       "1     NaN  23rd of September Communist League      Government (Diplomatic)   \n",
       "2     NaN                             Unknown          Journalists & Media   \n",
       "3     NaN                             Unknown      Government (Diplomatic)   \n",
       "4     NaN                             Unknown      Government (Diplomatic)   \n",
       "\n",
       "  Weapon_type Motive  \n",
       "0     Unknown    NaN  \n",
       "1     Unknown    NaN  \n",
       "2     Unknown    NaN  \n",
       "3  Explosives    NaN  \n",
       "4  Incendiary    NaN  "
      ]
     },
     "execution_count": 9,
     "metadata": {},
     "output_type": "execute_result"
    }
   ],
   "source": [
    "data.head()"
   ]
  },
  {
   "cell_type": "code",
   "execution_count": 10,
   "id": "f3988a7a",
   "metadata": {},
   "outputs": [
    {
     "data": {
      "text/plain": [
       "<bound method NDFrame.describe of         Year  Month  Extended  Day             Country            State  \\\n",
       "0       1970      7         0    2  Dominican Republic              NaN   \n",
       "1       1970      0         0    0              Mexico          Federal   \n",
       "2       1970      1         0    0         Philippines           Tarlac   \n",
       "3       1970      1         0    0              Greece           Attica   \n",
       "4       1970      1         0    0               Japan          Fukouka   \n",
       "...      ...    ...       ...  ...                 ...              ...   \n",
       "181686  2017     12         0   31             Somalia  Middle Shebelle   \n",
       "181687  2017     12         0   31               Syria         Lattakia   \n",
       "181688  2017     12         0   31         Philippines      Maguindanao   \n",
       "181689  2017     12         0   31               India          Manipur   \n",
       "181690  2017     12         0   31         Philippines      Maguindanao   \n",
       "\n",
       "                             Region           City   Latitude   Longitude  \\\n",
       "0       Central America & Caribbean  Santo Domingo  18.456792  -69.951164   \n",
       "1                     North America    Mexico city  19.371887  -99.086624   \n",
       "2                    Southeast Asia        Unknown  15.478598  120.599741   \n",
       "3                    Western Europe         Athens  37.997490   23.762728   \n",
       "4                         East Asia        Fukouka  33.580412  130.396361   \n",
       "...                             ...            ...        ...         ...   \n",
       "181686           Sub-Saharan Africa  Ceelka Geelow   2.359673   45.385034   \n",
       "181687   Middle East & North Africa         Jableh  35.407278   35.942679   \n",
       "181688               Southeast Asia       Kubentog   6.900742  124.437908   \n",
       "181689                   South Asia         Imphal  24.798346   93.940430   \n",
       "181690               Southeast Asia  Cotabato City   7.209594  124.241966   \n",
       "\n",
       "                            AttackType  Killed  Wounded  \\\n",
       "0                        Assassination     1.0      0.0   \n",
       "1          Hostage Taking (Kidnapping)     0.0      0.0   \n",
       "2                        Assassination     1.0      0.0   \n",
       "3                    Bombing/Explosion     NaN      NaN   \n",
       "4       Facility/Infrastructure Attack     NaN      NaN   \n",
       "...                                ...     ...      ...   \n",
       "181686                   Armed Assault     1.0      2.0   \n",
       "181687               Bombing/Explosion     2.0      7.0   \n",
       "181688  Facility/Infrastructure Attack     0.0      0.0   \n",
       "181689               Bombing/Explosion     0.0      0.0   \n",
       "181690               Bombing/Explosion     0.0      0.0   \n",
       "\n",
       "                         Target  \\\n",
       "0                  Julio Guzman   \n",
       "1       Nadine Chaval, daughter   \n",
       "2                      Employee   \n",
       "3                  U.S. Embassy   \n",
       "4                U.S. Consulate   \n",
       "...                         ...   \n",
       "181686               Checkpoint   \n",
       "181687         Hmeymim Air Base   \n",
       "181688                   Houses   \n",
       "181689                   Office   \n",
       "181690                  Unknown   \n",
       "\n",
       "                                                  Summary  \\\n",
       "0                                                     NaN   \n",
       "1                                                     NaN   \n",
       "2                                                     NaN   \n",
       "3                                                     NaN   \n",
       "4                                                     NaN   \n",
       "...                                                   ...   \n",
       "181686  12/31/2017: Assailants opened fire on a Somali...   \n",
       "181687  12/31/2017: Assailants launched mortars at the...   \n",
       "181688  12/31/2017: Assailants set fire to houses in K...   \n",
       "181689  12/31/2017: Assailants threw a grenade at a Fo...   \n",
       "181690  12/31/2017: An explosive device was discovered...   \n",
       "\n",
       "                                             Group  \\\n",
       "0                                           MANO-D   \n",
       "1               23rd of September Communist League   \n",
       "2                                          Unknown   \n",
       "3                                          Unknown   \n",
       "4                                          Unknown   \n",
       "...                                            ...   \n",
       "181686                                  Al-Shabaab   \n",
       "181687                           Muslim extremists   \n",
       "181688  Bangsamoro Islamic Freedom Movement (BIFM)   \n",
       "181689                                     Unknown   \n",
       "181690                                     Unknown   \n",
       "\n",
       "                        Target_type Weapon_type Motive  \n",
       "0       Private Citizens & Property     Unknown    NaN  \n",
       "1           Government (Diplomatic)     Unknown    NaN  \n",
       "2               Journalists & Media     Unknown    NaN  \n",
       "3           Government (Diplomatic)  Explosives    NaN  \n",
       "4           Government (Diplomatic)  Incendiary    NaN  \n",
       "...                             ...         ...    ...  \n",
       "181686                     Military    Firearms    NaN  \n",
       "181687                     Military  Explosives    NaN  \n",
       "181688  Private Citizens & Property  Incendiary    NaN  \n",
       "181689         Government (General)  Explosives    NaN  \n",
       "181690                      Unknown  Explosives    NaN  \n",
       "\n",
       "[181691 rows x 19 columns]>"
      ]
     },
     "execution_count": 10,
     "metadata": {},
     "output_type": "execute_result"
    }
   ],
   "source": [
    "data.describe"
   ]
  },
  {
   "cell_type": "code",
   "execution_count": 11,
   "id": "6ae6ade2",
   "metadata": {},
   "outputs": [
    {
     "data": {
      "text/plain": [
       "Year                0\n",
       "Month               0\n",
       "Extended            0\n",
       "Day                 0\n",
       "Country             0\n",
       "State             421\n",
       "Region              0\n",
       "City              434\n",
       "Latitude         4556\n",
       "Longitude        4557\n",
       "AttackType          0\n",
       "Killed          10313\n",
       "Wounded         16311\n",
       "Target            636\n",
       "Summary         66129\n",
       "Group               0\n",
       "Target_type         0\n",
       "Weapon_type         0\n",
       "Motive         131130\n",
       "dtype: int64"
      ]
     },
     "execution_count": 11,
     "metadata": {},
     "output_type": "execute_result"
    }
   ],
   "source": [
    "data.isnull().sum()"
   ]
  },
  {
   "cell_type": "code",
   "execution_count": 25,
   "id": "6e26b7a3",
   "metadata": {},
   "outputs": [
    {
     "data": {
      "text/plain": [
       "Iraq           24636\n",
       "Pakistan       14368\n",
       "Afghanistan    12731\n",
       "India          11960\n",
       "Colombia        8306\n",
       "Name: Country, dtype: int64"
      ]
     },
     "execution_count": 25,
     "metadata": {},
     "output_type": "execute_result"
    }
   ],
   "source": [
    "country=df[\"Country\"].value_counts().head(5)\n",
    "country"
   ]
  },
  {
   "cell_type": "markdown",
   "id": "65717a37",
   "metadata": {},
   "source": [
    "### Data Visualization"
   ]
  },
  {
   "cell_type": "code",
   "execution_count": 26,
   "id": "01b13cd5",
   "metadata": {},
   "outputs": [
    {
     "data": {
      "image/png": "[encoded data removed]",
      "text/plain": [
       "<Figure size 1080x432 with 1 Axes>"
      ]
     },
     "metadata": {
      "needs_background": "light"
     },
     "output_type": "display_data"
    }
   ],
   "source": [
    "country.plot(kind=\"bar\",color=\"cornflowerblue\",figsize=(15,6))\n",
    "plt.title(\"Country wise Attacks\",fontsize=13)\n",
    "plt.xlabel(\"Countries\",fontsize=13)\n",
    "plt.xticks(fontsize=12)\n",
    "plt.ylabel(\"Number of Attacks\",fontsize=13)\n",
    "plt.show()"
   ]
  },
  {
   "cell_type": "code",
   "execution_count": 31,
   "id": "5b27d775",
   "metadata": {},
   "outputs": [
    {
     "data": {
      "text/plain": [
       "Baghdad    7589\n",
       "Karachi    2652\n",
       "Lima       2359\n",
       "Mosul      2265\n",
       "Belfast    2171\n",
       "Name: City, dtype: int64"
      ]
     },
     "execution_count": 31,
     "metadata": {},
     "output_type": "execute_result"
    }
   ],
   "source": [
    "city=df[\"City\"].value_counts()[1:6]\n",
    "city"
   ]
  },
  {
   "cell_type": "code",
   "execution_count": 51,
   "id": "1710cb9b",
   "metadata": {},
   "outputs": [
    {
     "data": {
      "image/png": "[encoded data removed]",
      "text/plain": [
       "<Figure size 1440x720 with 1 Axes>"
      ]
     },
     "metadata": {
      "needs_background": "light"
     },
     "output_type": "display_data"
    }
   ],
   "source": [
    "city.plot(kind=\"line\",color=\"black\",figsize=(20,10))\n",
    "plt.title(\"City wise Attacks\",fontsize=30)\n",
    "plt.xlabel(\"Cities\",fontsize=30)\n",
    "plt.xticks(fontsize=30)\n",
    "plt.ylabel(\"Number of Attacks\",fontsize=30)\n",
    "plt.show()"
   ]
  },
  {
   "cell_type": "code",
   "execution_count": 54,
   "id": "0e76d162",
   "metadata": {},
   "outputs": [
    {
     "data": {
      "text/html": [
       "<div>\n",
       "<style scoped>\n",
       "    .dataframe tbody tr th:only-of-type {\n",
       "        vertical-align: middle;\n",
       "    }\n",
       "\n",
       "    .dataframe tbody tr th {\n",
       "        vertical-align: top;\n",
       "    }\n",
       "\n",
       "    .dataframe thead th {\n",
       "        text-align: right;\n",
       "    }\n",
       "</style>\n",
       "<table border=\"1\" class=\"dataframe\">\n",
       "  <thead>\n",
       "    <tr style=\"text-align: right;\">\n",
       "      <th></th>\n",
       "      <th>Attacks</th>\n",
       "    </tr>\n",
       "    <tr>\n",
       "      <th>Year</th>\n",
       "      <th></th>\n",
       "    </tr>\n",
       "  </thead>\n",
       "  <tbody>\n",
       "    <tr>\n",
       "      <th>1970</th>\n",
       "      <td>651</td>\n",
       "    </tr>\n",
       "    <tr>\n",
       "      <th>1971</th>\n",
       "      <td>471</td>\n",
       "    </tr>\n",
       "    <tr>\n",
       "      <th>1972</th>\n",
       "      <td>568</td>\n",
       "    </tr>\n",
       "    <tr>\n",
       "      <th>1973</th>\n",
       "      <td>473</td>\n",
       "    </tr>\n",
       "    <tr>\n",
       "      <th>1974</th>\n",
       "      <td>581</td>\n",
       "    </tr>\n",
       "  </tbody>\n",
       "</table>\n",
       "</div>"
      ],
      "text/plain": [
       "      Attacks\n",
       "Year         \n",
       "1970      651\n",
       "1971      471\n",
       "1972      568\n",
       "1973      473\n",
       "1974      581"
      ]
     },
     "execution_count": 54,
     "metadata": {},
     "output_type": "execute_result"
    }
   ],
   "source": [
    "year=df[\"Year\"].value_counts(dropna=False).sort_index().to_frame().reset_index().rename(columns={\"index\":\"Year\",\"Year\":\"Attacks\"}).set_index(\"Year\")\n",
    "year.head(5)"
   ]
  },
  {
   "cell_type": "code",
   "execution_count": 55,
   "id": "810cf317",
   "metadata": {},
   "outputs": [
    {
     "data": {
      "image/png": "[encoded data removed]",
      "text/plain": [
       "<Figure size 1080x432 with 1 Axes>"
      ]
     },
     "metadata": {
      "needs_background": "light"
     },
     "output_type": "display_data"
    }
   ],
   "source": [
    "year.plot(kind=\"area\",color=\"red\",figsize=(15,6),fontsize=13)\n",
    "plt.title(\"Timeline of Attacks\",fontsize=15)\n",
    "plt.xlabel(\"Years\",fontsize=15)\n",
    "plt.ylabel(\"Number of Attacks\",fontsize=15)\n",
    "plt.show()"
   ]
  },
  {
   "cell_type": "code",
   "execution_count": 67,
   "id": "a4af88ea",
   "metadata": {},
   "outputs": [
    {
     "data": {
      "text/html": [
       "<div>\n",
       "<style scoped>\n",
       "    .dataframe tbody tr th:only-of-type {\n",
       "        vertical-align: middle;\n",
       "    }\n",
       "\n",
       "    .dataframe tbody tr th {\n",
       "        vertical-align: top;\n",
       "    }\n",
       "\n",
       "    .dataframe thead th {\n",
       "        text-align: right;\n",
       "    }\n",
       "</style>\n",
       "<table border=\"1\" class=\"dataframe\">\n",
       "  <thead>\n",
       "    <tr style=\"text-align: right;\">\n",
       "      <th>Region</th>\n",
       "      <th>Australasia &amp; Oceania</th>\n",
       "      <th>Central America &amp; Caribbean</th>\n",
       "      <th>Central Asia</th>\n",
       "      <th>East Asia</th>\n",
       "      <th>Eastern Europe</th>\n",
       "      <th>Middle East &amp; North Africa</th>\n",
       "      <th>North America</th>\n",
       "      <th>South America</th>\n",
       "      <th>South Asia</th>\n",
       "      <th>Southeast Asia</th>\n",
       "      <th>Sub-Saharan Africa</th>\n",
       "      <th>Western Europe</th>\n",
       "    </tr>\n",
       "    <tr>\n",
       "      <th>Year</th>\n",
       "      <th></th>\n",
       "      <th></th>\n",
       "      <th></th>\n",
       "      <th></th>\n",
       "      <th></th>\n",
       "      <th></th>\n",
       "      <th></th>\n",
       "      <th></th>\n",
       "      <th></th>\n",
       "      <th></th>\n",
       "      <th></th>\n",
       "      <th></th>\n",
       "    </tr>\n",
       "  </thead>\n",
       "  <tbody>\n",
       "    <tr>\n",
       "      <th>1970</th>\n",
       "      <td>1</td>\n",
       "      <td>7</td>\n",
       "      <td>0</td>\n",
       "      <td>2</td>\n",
       "      <td>12</td>\n",
       "      <td>28</td>\n",
       "      <td>472</td>\n",
       "      <td>65</td>\n",
       "      <td>1</td>\n",
       "      <td>10</td>\n",
       "      <td>3</td>\n",
       "      <td>50</td>\n",
       "    </tr>\n",
       "    <tr>\n",
       "      <th>1971</th>\n",
       "      <td>1</td>\n",
       "      <td>5</td>\n",
       "      <td>0</td>\n",
       "      <td>1</td>\n",
       "      <td>5</td>\n",
       "      <td>55</td>\n",
       "      <td>247</td>\n",
       "      <td>24</td>\n",
       "      <td>0</td>\n",
       "      <td>6</td>\n",
       "      <td>2</td>\n",
       "      <td>125</td>\n",
       "    </tr>\n",
       "    <tr>\n",
       "      <th>1972</th>\n",
       "      <td>8</td>\n",
       "      <td>3</td>\n",
       "      <td>0</td>\n",
       "      <td>0</td>\n",
       "      <td>1</td>\n",
       "      <td>53</td>\n",
       "      <td>73</td>\n",
       "      <td>33</td>\n",
       "      <td>1</td>\n",
       "      <td>16</td>\n",
       "      <td>4</td>\n",
       "      <td>376</td>\n",
       "    </tr>\n",
       "    <tr>\n",
       "      <th>1973</th>\n",
       "      <td>1</td>\n",
       "      <td>6</td>\n",
       "      <td>0</td>\n",
       "      <td>2</td>\n",
       "      <td>1</td>\n",
       "      <td>19</td>\n",
       "      <td>64</td>\n",
       "      <td>83</td>\n",
       "      <td>1</td>\n",
       "      <td>2</td>\n",
       "      <td>4</td>\n",
       "      <td>290</td>\n",
       "    </tr>\n",
       "    <tr>\n",
       "      <th>1974</th>\n",
       "      <td>1</td>\n",
       "      <td>11</td>\n",
       "      <td>0</td>\n",
       "      <td>4</td>\n",
       "      <td>2</td>\n",
       "      <td>42</td>\n",
       "      <td>111</td>\n",
       "      <td>81</td>\n",
       "      <td>2</td>\n",
       "      <td>3</td>\n",
       "      <td>7</td>\n",
       "      <td>317</td>\n",
       "    </tr>\n",
       "  </tbody>\n",
       "</table>\n",
       "</div>"
      ],
      "text/plain": [
       "Region  Australasia & Oceania  Central America & Caribbean  Central Asia  \\\n",
       "Year                                                                       \n",
       "1970                        1                            7             0   \n",
       "1971                        1                            5             0   \n",
       "1972                        8                            3             0   \n",
       "1973                        1                            6             0   \n",
       "1974                        1                           11             0   \n",
       "\n",
       "Region  East Asia  Eastern Europe  Middle East & North Africa  North America  \\\n",
       "Year                                                                           \n",
       "1970            2              12                          28            472   \n",
       "1971            1               5                          55            247   \n",
       "1972            0               1                          53             73   \n",
       "1973            2               1                          19             64   \n",
       "1974            4               2                          42            111   \n",
       "\n",
       "Region  South America  South Asia  Southeast Asia  Sub-Saharan Africa  \\\n",
       "Year                                                                    \n",
       "1970               65           1              10                   3   \n",
       "1971               24           0               6                   2   \n",
       "1972               33           1              16                   4   \n",
       "1973               83           1               2                   4   \n",
       "1974               81           2               3                   7   \n",
       "\n",
       "Region  Western Europe  \n",
       "Year                    \n",
       "1970                50  \n",
       "1971               125  \n",
       "1972               376  \n",
       "1973               290  \n",
       "1974               317  "
      ]
     },
     "execution_count": 67,
     "metadata": {},
     "output_type": "execute_result"
    }
   ],
   "source": [
    "region=pd.crosstab(df.Year,df.Region)\n",
    "region.head(5)"
   ]
  },
  {
   "cell_type": "code",
   "execution_count": 68,
   "id": "7a6ce993",
   "metadata": {},
   "outputs": [
    {
     "data": {
      "image/png": "[encoded data removed]",
      "text/plain": [
       "<Figure size 1440x720 with 1 Axes>"
      ]
     },
     "metadata": {
      "needs_background": "light"
     },
     "output_type": "display_data"
    }
   ],
   "source": [
    "region.plot(kind=\"hist\", stacked=False, alpha=0.5,figsize=(20,10))\n",
    "plt.title(\"Region wise attacks\",fontsize=20)\n",
    "plt.xlabel(\"Years\",fontsize=20)\n",
    "plt.ylabel(\"Number of Attacks\",fontsize=20)\n",
    "plt.show()"
   ]
  },
  {
   "cell_type": "code",
   "execution_count": 72,
   "id": "e5298f0b",
   "metadata": {},
   "outputs": [
    {
     "data": {
      "text/plain": [
       "Northern Ireland      4498\n",
       "Unknown               4290\n",
       "Balochistan           3710\n",
       "Saladin               3411\n",
       "Al Anbar              3299\n",
       "Nineveh               3241\n",
       "Sindh                 3206\n",
       "Khyber Pakhtunkhwa    3084\n",
       "Diyala                3041\n",
       "Name: State, dtype: int64"
      ]
     },
     "execution_count": 72,
     "metadata": {},
     "output_type": "execute_result"
    }
   ],
   "source": [
    "st=df[\"State\"].value_counts()[1:10]\n",
    "st"
   ]
  },
  {
   "cell_type": "code",
   "execution_count": 74,
   "id": "b382e693",
   "metadata": {},
   "outputs": [
    {
     "data": {
      "image/png": "[encoded data removed]",
      "text/plain": [
       "<Figure size 1440x720 with 1 Axes>"
      ]
     },
     "metadata": {
      "needs_background": "light"
     },
     "output_type": "display_data"
    }
   ],
   "source": [
    "region.plot(kind=\"bar\", stacked=False, alpha=0.5,figsize=(20,10))\n",
    "plt.title(\"states in attacks\",fontsize=20)\n",
    "plt.xlabel(\"Years\",fontsize=20)\n",
    "plt.ylabel(\"Number of Attacks\",fontsize=20)\n",
    "plt.show()"
   ]
  },
  {
   "cell_type": "code",
   "execution_count": null,
   "id": "40071363",
   "metadata": {},
   "outputs": [],
   "source": []
  }
 ],
 "metadata": {
  "kernelspec": {
   "display_name": "Python 3 (ipykernel)",
   "language": "python",
   "name": "python3"
  },
  "language_info": {
   "codemirror_mode": {
    "name": "ipython",
    "version": 3
   },
   "file_extension": ".py",
   "mimetype": "text/x-python",
   "name": "python",
   "nbconvert_exporter": "python",
   "pygments_lexer": "ipython3",
   "version": "3.9.13"
  }
 },
 "nbformat": 4,
 "nbformat_minor": 5
}
